{
 "cells": [
  {
   "cell_type": "code",
   "execution_count": 8,
   "metadata": {},
   "outputs": [
    {
     "name": "stdout",
     "output_type": "stream",
     "text": [
      "The current directory is: \n",
      "c:\\Users\\springnuance\\Desktop\\DAMASK3-Processing-Project\n"
     ]
    }
   ],
   "source": [
    "import numpy as np\n",
    "import damask\n",
    "import yaml\n",
    "import shutil\n",
    "import os\n",
    "from math import * \n",
    "os.getcwd()\n",
    "print(\"The current directory is: \")\n",
    "print(os.getcwd())"
   ]
  },
  {
   "attachments": {},
   "cell_type": "markdown",
   "metadata": {},
   "source": [
    "## Dict keys for output"
   ]
  },
  {
   "cell_type": "code",
   "execution_count": 9,
   "metadata": {},
   "outputs": [],
   "source": [
    "# [all]\n",
    "# (output) phase\n",
    "# (output) texture\n",
    "# (output) volume\n",
    "# (output) orientation    # quaternion\n",
    "# (output) eulerangles    # orientation as Bunge triple in degree\n",
    "# (output) grainrotation  # deviation from initial orientation as axis (1-3) and angle in degree (4) in crystal reference coordinates\n",
    "# (output) grainrotationx # deviation from initial orientation as angle in degrees around sample reference x axis\n",
    "# (output) grainrotationy # deviation from initial orientation as angle in degrees around sample reference y axis\n",
    "# (output) grainrotationz # deviation from initial orientation as angle in degrees around sample reference z axis\n",
    "# (output) f              # deformation gradient tensor; synonyms: \"defgrad\"\n",
    "# (output) fe             # elastic deformation gradient tensor\n",
    "# (output) fp             # plastic deformation gradient tensor\n",
    "# (output) e              # total strain as Green-Lagrange tensor \n",
    "# (output) ee             # elastic strain as Green-Lagrange tensor \n",
    "# (output) p              # first Piola-Kichhoff stress tensor; synonyms: \"firstpiola\", \"1stpiola\"\n",
    "# (output) s              # second Piola-Kichhoff stress tesor; synonyms: \"tstar\", \"secondpiola\", \"2ndpiola\"\n",
    "# (output) lp             # plastic velocity gradient tensor\n",
    "# (output) elasmatrix     # elastic stiffness matrix\n",
    "# (output) ipcoords       # current ip coordinates\n",
    "\n",
    "outputDict = {\n",
    "    'f': 'F',         \n",
    "    'p': 'P',\n",
    "    's': 'S',\n",
    "    'lp': 'Lp',\n",
    "    'fe': 'Fe',\n",
    "    'fp': 'Fp',\n",
    "    'orientation': 'orientation',\n",
    "    'grainrotation': 'grainRotation',\n",
    "    'phase': 'phase',\n",
    "    'texture': 'texture',\n",
    "}\n",
    "\n",
    "np.save('paramsMapping/output_convert.npy', outputDict)\n"
   ]
  },
  {
   "attachments": {},
   "cell_type": "markdown",
   "metadata": {},
   "source": [
    "## Dict keys for PH model"
   ]
  },
  {
   "cell_type": "code",
   "execution_count": 10,
   "metadata": {},
   "outputs": [],
   "source": [
    "PHparams_convert = {\n",
    "    'hooke': 'Hooke',\n",
    "    'Nslip': 'N_sl',\n",
    "    'Ntwin': 'N_tw',\n",
    "    'c11': 'C_11',\n",
    "    'c12': 'C_12',              \n",
    "    'c44': 'C_44',              \n",
    "    'gdot0_slip': 'dot_gamma_0_sl',   \n",
    "    'gdot0_twin': 'dot_gamma_0_tw',           \n",
    "    'n_slip': 'n_sl',        \n",
    "    'n_twin': 'n_tw',          \n",
    "    'a_slip': 'a_sl',      \n",
    "    'tau0_slip': 'xi_0_sl',     \n",
    "    'tau0_twin': 'xi_0_tw',  \n",
    "    'tausat_slip': 'xi_inf_sl',          \n",
    "    'h0_slipslip': 'h_0_sl-sl',            \n",
    "    'h0_sliptwin': 'h_0_sl-tw',             \n",
    "    'h0_twinslip': 'h_0_tw-sl',             \n",
    "    'h0_twintwin': 'h_0_tw-tw',             \n",
    "    'interaction_slipslip': 'h_sl-sl',    \n",
    "    'interaction_sliptwin': 'h_sl-tw',    \n",
    "    'interaction_twinslip': 'h_tw-sl',    \n",
    "    'interaction_twintwin': 'h_tw-tw',    \n",
    "    's_pr': 'f_sat_sl_tw',               \n",
    "    'atol_resistance': 'atol_xi',    \n",
    "    'twin_b': 'c_1',                  \n",
    "    'twin_c': 'c_2',          \n",
    "    'twin_d': 'c_3',                  \n",
    "    'twin_e': 'c_4',   \n",
    "}\n",
    "\n",
    "np.save('paramsMapping/PHparams_convert.npy', PHparams_convert)\n",
    "    "
   ]
  },
  {
   "attachments": {},
   "cell_type": "markdown",
   "metadata": {},
   "source": [
    "## Dict keys for DB model"
   ]
  },
  {
   "cell_type": "code",
   "execution_count": 11,
   "metadata": {},
   "outputs": [],
   "source": [
    "DBparams_convert = {\n",
    "    \n",
    "    'Nslip': 'N_sl',\n",
    "    'Ntwin': 'N_tw',\n",
    "    'c11': 'C_11',\n",
    "    'c12': 'C_12',              \n",
    "    'c44': 'C_44',  \n",
    "    'B': 'B',\n",
    "    'grainsize': 'D',\n",
    "    'SolidSolutionStrength': 'tau_0',\n",
    "    'Nslip': 'N_sl',\n",
    "    'slipburgers': 'b_sl',\n",
    "    'rhoedgedip0': 'rho_dip_0',\n",
    "    'rhoedge0': 'rho_mob_0',\n",
    "    'v0': 'v_0',\n",
    "    'Qedge': 'Q_sl',\n",
    "    'Q_sd': 'Q_cl',\n",
    "    'p_slip': 'p_sl',\n",
    "    'q_slip': 'q_sl',\n",
    "    'CLambdaSlip': 'i_sl',\n",
    "    'Catomicvolume': 'V_at',\n",
    "    'Cedgedipmindistance': 'D_a',\n",
    "    'D0': 'D_0',\n",
    "    'interaction_slipslip': 'h_sl-sl',\n",
    "    'interaction_sliptwin': 'h_sl-tw',\n",
    "    # 'interaction_twinslip': 'h_tw-sl', this parameter not in DB\n",
    "    'interaction_twintwin': 'h_tw-tw',\n",
    "    'interaction_sliptrip': 'h_sl-tr',\n",
    "    'interaction_triptrip': 'h_tr-tr',\n",
    "}\n",
    "\n",
    "np.save('paramsMapping/DBparams_convert.npy', DBparams_convert)"
   ]
  },
  {
   "cell_type": "code",
   "execution_count": 12,
   "metadata": {},
   "outputs": [],
   "source": [
    "lattice_convert = {\n",
    "    'bcc': 'cI',\n",
    "    'fcc': 'cF',\n",
    "    'hcp': 'hP',\n",
    "    'bct': 'tI',\n",
    "}\n",
    "\n",
    "np.save('paramsMapping/lattice_convert.npy', lattice_convert)"
   ]
  },
  {
   "cell_type": "code",
   "execution_count": 13,
   "metadata": {},
   "outputs": [],
   "source": [
    "# Fdot, dotF\t                deformation gradient rate (Fˉ˙)\t9 real numbers or asterisks\tinstead of L or F; component wise exclusive with P\n",
    "# F\t                            deformation gradient aim (Fˉ)\t9 real numbers or asterisks\tinstead of L or Fdot; component wise exclusive with P\n",
    "# L\t                            velocity gradient (Lˉ)\t9 real numbers or asterisks\tinstead of Fdot or F; component wise exclusive with P\n",
    "# P\t                            Piola–Kirchhoff stress (Pˉ)\t9 real numbers or asterisks\tcomponent wise exclusive with Fdot, F, and L\n",
    "# t, time, delta\t            total time increment\t1 real number\n",
    "# incs, N\t                    number of increments; linear time scaling\t1 integer\tinstead of logIncs\n",
    "# freq, frequency, outputfreq\tfrequency of results output\t1 integer\tdefault value is 1, e.g. every step is written out\n",
    "# rot, rotation\t                rotation of loadcase frame by rotation matrix\t9 real values\tinstead of euler\n",
    "# dropguessing, guessreset\t    reset guessing\tNone\n",
    "# r, restart, restartwrite\t    frequency of saving restart information\t1 integer\tdefault value of 0 disables writing of restart information\n",
    "\n",
    "tension_convert = {\n",
    "    'fdot': 'dot_F',\n",
    "    'dotF': 'dot_F',\n",
    "    'Fdot': 'dot_F',\n",
    "    'pdot': 'dot_P',\n",
    "    'dotP': 'dot_P',\n",
    "    'Pdot': 'dot_P',\n",
    "    'F': 'F',\n",
    "    'L': 'L',\n",
    "    'P': 'P',\n",
    "    'stress': 'P',\n",
    "    't': 't',\n",
    "    'time': 't',\n",
    "    'delta': 't',\n",
    "    'incs': 'N',\n",
    "    'N': 'N',\n",
    "    'logIncs': 'logIncs',\n",
    "    'freq': 'f_out',\n",
    "    'frequency': 'f_out',\n",
    "    'outputfreq': 'f_out',\n",
    "    'rot': 'R',\n",
    "    'rotation': 'R',\n",
    "    'r': 'f_restart',\n",
    "    'restart': 'f_restart',\n",
    "    'restartwrite': 'f_restart',\n",
    "    'dropguessing': 'estimate_rate',\n",
    "    'guessreset': 'estimate_rate',\n",
    "}\n",
    "\n",
    "np.save('paramsMapping/tension_convert.npy', tension_convert)"
   ]
  }
 ],
 "metadata": {
  "kernelspec": {
   "display_name": "Python 3",
   "language": "python",
   "name": "python3"
  },
  "language_info": {
   "codemirror_mode": {
    "name": "ipython",
    "version": 3
   },
   "file_extension": ".py",
   "mimetype": "text/x-python",
   "name": "python",
   "nbconvert_exporter": "python",
   "pygments_lexer": "ipython3",
   "version": "3.11.3"
  },
  "orig_nbformat": 4
 },
 "nbformat": 4,
 "nbformat_minor": 2
}
