{
 "cells": [
  {
   "cell_type": "code",
   "execution_count": 2,
   "metadata": {},
   "outputs": [
    {
     "name": "stdout",
     "output_type": "stream",
     "text": [
      "The current directory is: \n",
      "c:\\Users\\springnuance\\Desktop\\DAMASK3-Processing-Project\n"
     ]
    }
   ],
   "source": [
    "import numpy as np\n",
    "import damask\n",
    "import yaml\n",
    "import shutil\n",
    "import os\n",
    "from math import * \n",
    "os.getcwd()\n",
    "print(\"The current directory is: \")\n",
    "print(os.getcwd())"
   ]
  },
  {
   "attachments": {},
   "cell_type": "markdown",
   "metadata": {},
   "source": [
    "## Dict keys for output"
   ]
  },
  {
   "cell_type": "code",
   "execution_count": 3,
   "metadata": {},
   "outputs": [],
   "source": [
    "# (output) orientation\t# quaternion\n",
    "# (output) grainrotation\t# deviation from initial orientation as axis (1-3) and angle in degree (4)\n",
    "# (output) f\t\t# deformation gradient tensor; synonyms: \"defgrad\"\n",
    "# (output) fe\t\t# elastic deformation gradient tensor\n",
    "# (output) fp\t\t# plastic deformation gradient tensor\n",
    "# (output) p\t\t# first Piola-Kichhoff stress tensor; synonyms: \"firstpiola\", \"1stpiola\"\n",
    "# (output) s\t\t# second Piola-Kichhoff stress tensor; synonyms: \"tstar\", \"secondpiola\", \"2ndpiola\"\n",
    "# (output) lp\t\t# plastic velocity gradient tensor\n",
    "\n",
    "outputDict = {\n",
    "    'f': 'F',         \n",
    "    'p': 'P',\n",
    "    's': 'S',\n",
    "    'lp': 'Lp',\n",
    "    'fe': 'Fe',\n",
    "    'fp': 'Fp',\n",
    "    'orientation': 'orientation',\n",
    "    'grainrotation': 'grainRotation',\n",
    "    'phase': 'phase',\n",
    "    'texture': 'texture',\n",
    "}\n",
    "\n",
    "np.save('convert_dicts/output_convert.npy', outputDict)\n"
   ]
  },
  {
   "attachments": {},
   "cell_type": "markdown",
   "metadata": {},
   "source": [
    "## Dict keys for PH model"
   ]
  },
  {
   "cell_type": "code",
   "execution_count": 4,
   "metadata": {},
   "outputs": [],
   "source": [
    "PHparams_convert = {\n",
    "    'hooke': 'Hooke',\n",
    "    'Nslip': 'N_sl',\n",
    "    'Ntwin': 'N_tw',\n",
    "    'c11': 'C_11',\n",
    "    'c12': 'C_12',              \n",
    "    'c44': 'C_44',              \n",
    "    'gdot0_slip': 'dot_gamma_0_sl',   \n",
    "    'gdot0_twin': 'dot_gamma_0_tw',           \n",
    "    'n_slip': 'n_sl',        \n",
    "    'n_twin': 'n_tw',          \n",
    "    'a_slip': 'a_sl',      \n",
    "    'tau0_slip': 'xi_0_sl',     \n",
    "    'tau0_twin': 'xi_0_tw',  \n",
    "    'tausat_slip': 'xi_inf_sl',          \n",
    "    'h0_slipslip': 'h_0_sl-sl',            \n",
    "    'h0_sliptwin': 'h_0_sl-tw',             \n",
    "    'h0_twinslip': 'h_0_tw-sl',             \n",
    "    'h0_twintwin': 'h_0_tw-tw',             \n",
    "    'interaction_slipslip': 'h_sl-sl',    \n",
    "    'interaction_sliptwin': 'h_sl-tw',    \n",
    "    'interaction_twinslip': 'h_tw-sl',    \n",
    "    'interaction_twintwin': 'h_tw-tw',    \n",
    "    's_pr': 'f_sat_sl_tw',               \n",
    "    'atol_resistance': 'atol_xi',    \n",
    "    'twin_b': 'c_1',                  \n",
    "    'twin_c': 'c_2',          \n",
    "    'twin_d': 'c_3',                  \n",
    "    'twin_e': 'c_4',   \n",
    "}\n",
    "\n",
    "np.save('convert_dicts/PHparams_convert.npy', PHparams_convert)\n",
    "    "
   ]
  },
  {
   "attachments": {},
   "cell_type": "markdown",
   "metadata": {},
   "source": [
    "## Dict keys for DB model"
   ]
  },
  {
   "cell_type": "code",
   "execution_count": 5,
   "metadata": {},
   "outputs": [],
   "source": [
    "DBparams_convert = {\n",
    "    \n",
    "    'Nslip': 'N_sl',\n",
    "    'Ntwin': 'N_tw',\n",
    "    'c11': 'C_11',\n",
    "    'c12': 'C_12',              \n",
    "    'c44': 'C_44',  \n",
    "    'B': 'B',\n",
    "    'grainsize': 'D',\n",
    "    'SolidSolutionStrength': 'tau_0',\n",
    "    'Nslip': 'N_sl',\n",
    "    'slipburgers': 'b_sl',\n",
    "    'rhoedgedip0': 'rho_dip_0',\n",
    "    'rhoedge0': 'rho_mob_0',\n",
    "    'v0': 'v_0',\n",
    "    'Qedge': 'Q_sl',\n",
    "    'Q_sd': 'Q_cl',\n",
    "    'p_slip': 'p_sl',\n",
    "    'q_slip': 'q_sl',\n",
    "    'CLambdaSlip': 'i_sl',\n",
    "    'Catomicvolume': 'V_at',\n",
    "    'Cedgedipmindistance': 'D_a',\n",
    "    'D0': 'D_0',\n",
    "    'interaction_slipslip': 'h_sl-sl',\n",
    "    'interaction_sliptwin': 'h_sl-tw',\n",
    "    'interaction_twinslip': 'h_tw-sl',\n",
    "    'interaction_twintwin': 'h_tw-tw',\n",
    "}\n",
    "\n",
    "np.save('convert_dicts/DBparams_convert.npy', DBparams_convert)"
   ]
  },
  {
   "cell_type": "code",
   "execution_count": 6,
   "metadata": {},
   "outputs": [],
   "source": [
    "lattice_convert = {\n",
    "    'bcc': 'cI',\n",
    "    'fcc': 'cF',\n",
    "    'hcp': 'hP',\n",
    "    'bct': 'tI',\n",
    "}\n",
    "\n",
    "np.save('convert_dicts/lattice_convert.npy', lattice_convert)"
   ]
  }
 ],
 "metadata": {
  "kernelspec": {
   "display_name": "Python 3",
   "language": "python",
   "name": "python3"
  },
  "language_info": {
   "codemirror_mode": {
    "name": "ipython",
    "version": 3
   },
   "file_extension": ".py",
   "mimetype": "text/x-python",
   "name": "python",
   "nbconvert_exporter": "python",
   "pygments_lexer": "ipython3",
   "version": "3.11.3"
  },
  "orig_nbformat": 4
 },
 "nbformat": 4,
 "nbformat_minor": 2
}
