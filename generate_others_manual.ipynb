{
 "cells": [
  {
   "cell_type": "code",
   "execution_count": 2,
   "metadata": {},
   "outputs": [
    {
     "name": "stdout",
     "output_type": "stream",
     "text": [
      "The current directory is: \n",
      "c:\\Users\\springnuance\\Desktop\\DAMASK3-Processing-Project\n"
     ]
    }
   ],
   "source": [
    "import numpy as np\n",
    "import damask\n",
    "import shutil\n",
    "import os\n",
    "from math import * \n",
    "os.getcwd()\n",
    "print(\"The current directory is: \")\n",
    "print(os.getcwd())"
   ]
  },
  {
   "cell_type": "code",
   "execution_count": 1,
   "metadata": {},
   "outputs": [],
   "source": [
    "outputPath = \"create_manual_DAMASK3\""
   ]
  },
  {
   "attachments": {},
   "cell_type": "markdown",
   "metadata": {},
   "source": [
    "# Create debug.yaml file"
   ]
  },
  {
   "cell_type": "code",
   "execution_count": 3,
   "metadata": {},
   "outputs": [],
   "source": [
    "debugConfigurations = damask.Config(\"\"\"\n",
    "    phase: [basic, extensive, selective]\n",
    "    materialpoint: [basic, extensive, selective]\n",
    "\n",
    "    # options for selective debugging\n",
    "    element: 1\n",
    "    integrationpoint: 1\n",
    "    constituent: 1\n",
    "\n",
    "    # solver-specific\n",
    "    mesh: [PETSc]\n",
    "    grid: [basic, rotation, PETSc]\n",
    "    Marc: [basic] \n",
    "\"\"\")\n",
    "\n",
    "debugConfigurations.save(f\"{outputPath}/debug.yaml\", default_flow_style=None, sort_keys=False)"
   ]
  },
  {
   "attachments": {},
   "cell_type": "markdown",
   "metadata": {},
   "source": [
    "# Create numerics.yaml"
   ]
  },
  {
   "cell_type": "code",
   "execution_count": null,
   "metadata": {},
   "outputs": [],
   "source": [
    "numericsConfigurations = damask.Config(\"\"\"\n",
    "  grid:\n",
    "    itmin: 2\n",
    "    itmax: 250\n",
    "    maxCutBack: 5\n",
    "\"\"\")\n",
    "\n",
    "numericsConfigurations.save(f\"{outputPath}/numerics.yaml\", default_flow_style=None, sort_keys=False)\n"
   ]
  }
 ],
 "metadata": {
  "kernelspec": {
   "display_name": "Python 3",
   "language": "python",
   "name": "python3"
  },
  "language_info": {
   "codemirror_mode": {
    "name": "ipython",
    "version": 3
   },
   "file_extension": ".py",
   "mimetype": "text/x-python",
   "name": "python",
   "nbconvert_exporter": "python",
   "pygments_lexer": "ipython3",
   "version": "3.11.3"
  },
  "orig_nbformat": 4
 },
 "nbformat": 4,
 "nbformat_minor": 2
}
