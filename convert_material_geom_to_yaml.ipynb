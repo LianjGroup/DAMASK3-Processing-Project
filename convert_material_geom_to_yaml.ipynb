{
 "cells": [
  {
   "cell_type": "code",
   "execution_count": 1,
   "metadata": {},
   "outputs": [
    {
     "name": "stdout",
     "output_type": "stream",
     "text": [
      "The current directory is: \n",
      "c:\\Users\\springnuance\\Desktop\\DAMASK3-Processing-Project\n"
     ]
    }
   ],
   "source": [
    "import numpy as np\n",
    "import damask\n",
    "import shutil\n",
    "import os\n",
    "from math import * \n",
    "os.getcwd()\n",
    "print(\"The current directory is: \")\n",
    "print(os.getcwd())"
   ]
  },
  {
   "attachments": {},
   "cell_type": "markdown",
   "metadata": {},
   "source": [
    "### Converting Dream3D geom file to .vti file and save it"
   ]
  },
  {
   "cell_type": "code",
   "execution_count": 2,
   "metadata": {},
   "outputs": [],
   "source": [
    "# Do not modify these variables below\n",
    "dir = \"convert_DAMASK2_to_DAMASK3\"\n",
    "material = \"QP\"\n",
    "inputFile = f\"{material}.geom\"\n",
    "outputFile = f\"{material}.vti\"\n",
    "inputDir = f\"{dir}/{inputFile}\"\n",
    "outputDir = f\"{dir}/{outputFile}\"\n"
   ]
  },
  {
   "cell_type": "code",
   "execution_count": 3,
   "metadata": {},
   "outputs": [
    {
     "name": "stdout",
     "output_type": "stream",
     "text": [
      "cells:  50 × 50 × 50\n",
      "size:   15.0 × 15.0 × 15.0 m³\n",
      "origin: 0.0   0.0   0.0 m\n",
      "# materials: 125000\n",
      "[[[     0   2500   5000 ... 117500 120000 122500]\n",
      "  [    50   2550   5050 ... 117550 120050 122550]\n",
      "  [   100   2600   5100 ... 117600 120100 122600]\n",
      "  ...\n",
      "  [  2350   4850   7350 ... 119850 122350 124850]\n",
      "  [  2400   4900   7400 ... 119900 122400 124900]\n",
      "  [  2450   4950   7450 ... 119950 122450 124950]]\n",
      "\n",
      " [[     1   2501   5001 ... 117501 120001 122501]\n",
      "  [    51   2551   5051 ... 117551 120051 122551]\n",
      "  [   101   2601   5101 ... 117601 120101 122601]\n",
      "  ...\n",
      "  [  2351   4851   7351 ... 119851 122351 124851]\n",
      "  [  2401   4901   7401 ... 119901 122401 124901]\n",
      "  [  2451   4951   7451 ... 119951 122451 124951]]\n",
      "\n",
      " [[     2   2502   5002 ... 117502 120002 122502]\n",
      "  [    52   2552   5052 ... 117552 120052 122552]\n",
      "  [   102   2602   5102 ... 117602 120102 122602]\n",
      "  ...\n",
      "  [  2352   4852   7352 ... 119852 122352 124852]\n",
      "  [  2402   4902   7402 ... 119902 122402 124902]\n",
      "  [  2452   4952   7452 ... 119952 122452 124952]]\n",
      "\n",
      " ...\n",
      "\n",
      " [[    47   2547   5047 ... 117547 120047 122547]\n",
      "  [    97   2597   5097 ... 117597 120097 122597]\n",
      "  [   147   2647   5147 ... 117647 120147 122647]\n",
      "  ...\n",
      "  [  2397   4897   7397 ... 119897 122397 124897]\n",
      "  [  2447   4947   7447 ... 119947 122447 124947]\n",
      "  [  2497   4997   7497 ... 119997 122497 124997]]\n",
      "\n",
      " [[    48   2548   5048 ... 117548 120048 122548]\n",
      "  [    98   2598   5098 ... 117598 120098 122598]\n",
      "  [   148   2648   5148 ... 117648 120148 122648]\n",
      "  ...\n",
      "  [  2398   4898   7398 ... 119898 122398 124898]\n",
      "  [  2448   4948   7448 ... 119948 122448 124948]\n",
      "  [  2498   4998   7498 ... 119998 122498 124998]]\n",
      "\n",
      " [[    49   2549   5049 ... 117549 120049 122549]\n",
      "  [    99   2599   5099 ... 117599 120099 122599]\n",
      "  [   149   2649   5149 ... 117649 120149 122649]\n",
      "  ...\n",
      "  [  2399   4899   7399 ... 119899 122399 124899]\n",
      "  [  2449   4949   7449 ... 119949 122449 124949]\n",
      "  [  2499   4999   7499 ... 119999 122499 124999]]]\n"
     ]
    },
    {
     "name": "stderr",
     "output_type": "stream",
     "text": [
      "C:\\Users\\springnuance\\AppData\\Local\\Temp\\ipykernel_2432\\710449337.py:1: DeprecationWarning: Support for ASCII-based geom format will be removed in DAMASK 3.0.0\n",
      "  geometry = damask.Grid.load_ASCII(inputDir)\n"
     ]
    }
   ],
   "source": [
    "geometry = damask.Grid.load_ASCII(inputDir)\n",
    "\n",
    "print(geometry)\n",
    "print(geometry.material)\n",
    "\n",
    "geometry.save(outputDir)"
   ]
  }
 ],
 "metadata": {
  "kernelspec": {
   "display_name": "Python 3",
   "language": "python",
   "name": "python3"
  },
  "language_info": {
   "codemirror_mode": {
    "name": "ipython",
    "version": 3
   },
   "file_extension": ".py",
   "mimetype": "text/x-python",
   "name": "python",
   "nbconvert_exporter": "python",
   "pygments_lexer": "ipython3",
   "version": "3.11.3"
  },
  "orig_nbformat": 4,
  "vscode": {
   "interpreter": {
    "hash": "3bc1a11519d29b3ed6f08646f3ece60640217e649724c6bcfd38e1173c1a1bce"
   }
  }
 },
 "nbformat": 4,
 "nbformat_minor": 2
}
