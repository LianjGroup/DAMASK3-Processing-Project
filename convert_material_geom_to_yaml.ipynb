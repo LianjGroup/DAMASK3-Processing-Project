{
 "cells": [
  {
   "cell_type": "code",
   "execution_count": 9,
   "metadata": {},
   "outputs": [
    {
     "name": "stdout",
     "output_type": "stream",
     "text": [
      "The current directory is: \n",
      "c:\\Users\\springnuance\\Desktop\\DAMASK3-Processing-Project\n"
     ]
    }
   ],
   "source": [
    "import numpy as np\n",
    "import damask\n",
    "import shutil\n",
    "import os\n",
    "from math import * \n",
    "os.getcwd()\n",
    "print(\"The current directory is: \")\n",
    "print(os.getcwd())"
   ]
  },
  {
   "attachments": {},
   "cell_type": "markdown",
   "metadata": {},
   "source": [
    "### Converting Dream3D geom file to .vti file and save it"
   ]
  },
  {
   "cell_type": "code",
   "execution_count": 10,
   "metadata": {},
   "outputs": [],
   "source": [
    "# Do not modify these variables below\n",
    "dir = \"convert_DAMASK2_to_DAMASK3\"\n",
    "material = \"DP\"\n",
    "inputFile = f\"{material}.geom\"\n",
    "outputFile = f\"{material}.vti\"\n",
    "inputDir = f\"{dir}/{inputFile}\"\n",
    "outputDir = f\"{dir}/{outputFile}\"\n"
   ]
  },
  {
   "cell_type": "code",
   "execution_count": 11,
   "metadata": {},
   "outputs": [
    {
     "name": "stdout",
     "output_type": "stream",
     "text": [
      "cells:  40 × 40 × 40\n",
      "size:   0.0002 × 0.0002 × 0.0002 m³\n",
      "origin: 0.0   0.0   0.0 m\n",
      "# materials: 1091\n",
      "[[[   0    1    4 ...  965 1016 1068]\n",
      "  [   0    1    4 ...  965 1018 1068]\n",
      "  [   0    1    4 ...  968 1018 1071]\n",
      "  ...\n",
      "  [   1    3    5 ... 1011 1068 1090]\n",
      "  [   1    3    5 ... 1016 1068 1090]\n",
      "  [   1    3    5 ... 1016 1068 1090]]\n",
      "\n",
      " [[   0    1    4 ...  965 1016 1068]\n",
      "  [   0    1    4 ...  965 1018 1068]\n",
      "  [   0    1    4 ...  968 1018 1071]\n",
      "  ...\n",
      "  [   1    3    5 ... 1011 1068 1090]\n",
      "  [   1    3    5 ... 1016 1068 1090]\n",
      "  [   1    4    5 ... 1016 1068 1090]]\n",
      "\n",
      " [[   0    1    4 ...  965 1016 1068]\n",
      "  [   0    1    4 ...  965 1018 1068]\n",
      "  [   0    1    4 ...  968 1018 1071]\n",
      "  ...\n",
      "  [   1    3    5 ... 1011 1068 1090]\n",
      "  [   1    3    5 ... 1016 1068 1090]\n",
      "  [   1    4    5 ... 1016 1068 1090]]\n",
      "\n",
      " ...\n",
      "\n",
      " [[   0    1    4 ...  965 1018 1068]\n",
      "  [   0    1    4 ...  968 1018 1070]\n",
      "  [   0    1    4 ...  970 1022 1071]\n",
      "  ...\n",
      "  [   1    3    5 ... 1016 1068 1090]\n",
      "  [   1    3    5 ... 1016 1068 1090]\n",
      "  [   1    4    5 ... 1016 1068 1090]]\n",
      "\n",
      " [[   0    1    4 ...  965 1018 1068]\n",
      "  [   0    1    4 ...  968 1018 1070]\n",
      "  [   0    1    4 ...  970 1022 1071]\n",
      "  ...\n",
      "  [   1    3    5 ... 1016 1068 1090]\n",
      "  [   1    3    5 ... 1016 1068 1090]\n",
      "  [   1    4    5 ... 1016 1068 1090]]\n",
      "\n",
      " [[   0    1    4 ...  965 1018 1068]\n",
      "  [   0    1    4 ...  968 1018 1070]\n",
      "  [   0    1    4 ...  970 1022 1071]\n",
      "  ...\n",
      "  [   1    3    5 ... 1016 1068 1090]\n",
      "  [   1    3    5 ... 1016 1068 1090]\n",
      "  [   1    4    5 ... 1016 1068 1090]]]\n"
     ]
    },
    {
     "name": "stderr",
     "output_type": "stream",
     "text": [
      "C:\\Users\\springnuance\\AppData\\Local\\Temp\\ipykernel_8480\\710449337.py:1: DeprecationWarning: Support for ASCII-based geom format will be removed in DAMASK 3.0.0\n",
      "  geometry = damask.Grid.load_ASCII(inputDir)\n"
     ]
    }
   ],
   "source": [
    "geometry = damask.Grid.load_ASCII(inputDir)\n",
    "\n",
    "print(geometry)\n",
    "print(geometry.material)\n",
    "\n",
    "geometry.save(outputDir)"
   ]
  }
 ],
 "metadata": {
  "kernelspec": {
   "display_name": "Python 3",
   "language": "python",
   "name": "python3"
  },
  "language_info": {
   "codemirror_mode": {
    "name": "ipython",
    "version": 3
   },
   "file_extension": ".py",
   "mimetype": "text/x-python",
   "name": "python",
   "nbconvert_exporter": "python",
   "pygments_lexer": "ipython3",
   "version": "3.11.3"
  },
  "orig_nbformat": 4,
  "vscode": {
   "interpreter": {
    "hash": "3bc1a11519d29b3ed6f08646f3ece60640217e649724c6bcfd38e1173c1a1bce"
   }
  }
 },
 "nbformat": 4,
 "nbformat_minor": 2
}
