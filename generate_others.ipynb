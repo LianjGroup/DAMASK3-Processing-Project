{
 "cells": [
  {
   "cell_type": "code",
   "execution_count": 3,
   "metadata": {},
   "outputs": [
    {
     "name": "stdout",
     "output_type": "stream",
     "text": [
      "The current directory is: \n",
      "c:\\Users\\springnuance\\Desktop\\Crystal-Plasticity-Journal-Project\\damask3\n",
      "Moving up to the parent directory\n",
      "c:\\Users\\springnuance\\Desktop\\Crystal-Plasticity-Journal-Project\n"
     ]
    }
   ],
   "source": [
    "import numpy as np\n",
    "import damask\n",
    "import shutil\n",
    "import os\n",
    "from math import * \n",
    "os.getcwd()\n",
    "print(\"The current directory is: \")\n",
    "print(os.getcwd())\n",
    "path_parent = os.path.dirname(os.getcwd())\n",
    "os.chdir(path_parent)\n",
    "print(\"Moving up to the parent directory\")\n",
    "print(os.getcwd())"
   ]
  },
  {
   "cell_type": "code",
   "execution_count": 6,
   "metadata": {},
   "outputs": [],
   "source": [
    "material = \"RVE_1_40_D\"\n",
    "\n",
    "CPLaws = [\"PH\", \"DB\"]\n",
    "\n",
    "loadings = [\n",
    "    \"linear_uniaxial_RD\",\n",
    "    \"linear_uniaxial_TD\",\n",
    "    \"nonlinear_biaxial_RD\",\n",
    "    \"nonlinear_biaxial_TD\",\n",
    "    \"nonlinear_planestrain_RD\",\n",
    "    \"nonlinear_planestrain_TD\",\n",
    "    \"nonlinear_uniaxial_RD\",\n",
    "    \"nonlinear_uniaxial_TD\",\n",
    "]"
   ]
  },
  {
   "attachments": {},
   "cell_type": "markdown",
   "metadata": {},
   "source": [
    "In each source/material_name folder, there must exists these files:\n",
    "\n",
    "- debug.yaml\n",
    "- numerics.yaml\n",
    "- material.geom file extracted from Dream3D\n",
    "- euler_angles.txt extracted from end of material file from Dream3D\n",
    "- preprocessing.sh\n",
    "- postprocessing.sh"
   ]
  },
  {
   "cell_type": "code",
   "execution_count": 20,
   "metadata": {},
   "outputs": [],
   "source": [
    "for loading in loadings:\n",
    "    for CPLaw in CPLaws:\n",
    "        dst_dir = f'damask3/templates/{material}/{CPLaw}/{loading}'\n",
    "        if not os.path.exists(dst_dir):\n",
    "            os.makedirs(dst_dir)"
   ]
  },
  {
   "attachments": {},
   "cell_type": "markdown",
   "metadata": {},
   "source": [
    "### Copying shell scripts"
   ]
  },
  {
   "cell_type": "code",
   "execution_count": 11,
   "metadata": {},
   "outputs": [],
   "source": [
    "for loading in loadings:\n",
    "    for CPLaw in CPLaws:\n",
    "        src_file = f'damask3/source/{material}/preprocessing.sh'\n",
    "        shutil.copy2(src_file, dst_dir)\n",
    "        src_file = f'damask3/source/{material}/postprocessing.sh'\n",
    "        shutil.copy2(src_file, dst_dir)"
   ]
  },
  {
   "attachments": {},
   "cell_type": "markdown",
   "metadata": {},
   "source": [
    "### Copying debug.yaml and numerics.yaml"
   ]
  },
  {
   "cell_type": "code",
   "execution_count": 14,
   "metadata": {},
   "outputs": [],
   "source": [
    "numerics = damask.Config(f\"\"\"\n",
    "grid:\n",
    "  itmin: 2\n",
    "  itmax: 250\n",
    "  maxCutBack: 5\n",
    "\"\"\")\n",
    "\n",
    "for loading in loadings:\n",
    "    for CPLaw in CPLaws:\n",
    "      numerics.save(f\"damask3/templates/{material}/{CPLaw}/{loading}/numerics.yaml\",default_flow_style = False)\n",
    "\n",
    "debug = damask.Config(f\"\"\"\n",
    "  phase: [basic, extensive, selective]\n",
    "  materialpoint: [basic, extensive, selective]\n",
    "\n",
    "  # options for selective debugging\n",
    "  element: 1\n",
    "  integrationpoint: 1\n",
    "  constituent: 1\n",
    "\n",
    "  # solver-specific\n",
    "  mesh: [PETSc]\n",
    "  grid: [basic, rotation, PETSc]\n",
    "  Marc: [basic]\n",
    "\"\"\")\n",
    "\n",
    "for loading in loadings:\n",
    "    for CPLaw in CPLaws:\n",
    "      debug.save(f\"damask3/templates/{material}/{CPLaw}/{loading}/debug.yaml\",default_flow_style = False)"
   ]
  },
  {
   "attachments": {},
   "cell_type": "markdown",
   "metadata": {},
   "source": [
    "### Converting Dream3D geom file to .vti file and save it"
   ]
  },
  {
   "cell_type": "code",
   "execution_count": 16,
   "metadata": {},
   "outputs": [
    {
     "name": "stderr",
     "output_type": "stream",
     "text": [
      "C:\\Users\\springnuance\\AppData\\Local\\Temp\\ipykernel_9464\\1034445354.py:1: DeprecationWarning: Support for ASCII-based geom format will be removed in DAMASK 3.0.0\n",
      "  geometry = damask.Grid.load_ASCII(f'damask3/source/{material}//RVE_1_40_D.geom')\n"
     ]
    },
    {
     "name": "stdout",
     "output_type": "stream",
     "text": [
      "cells:  40 × 40 × 40\n",
      "size:   0.003 × 0.003 × 0.003 m³\n",
      "origin: 0.0   0.0   0.0 m\n",
      "# materials: 3165\n",
      "[[[ 482  482  482 ... 1605 1605  162]\n",
      "  [1121 1121 1121 ... 1605  162  162]\n",
      "  [ 162  162 1121 ... 1605  162  162]\n",
      "  ...\n",
      "  [ 687 2575 2575 ... 2516 2516 2516]\n",
      "  [2863 2863 2575 ... 2516 2516 2516]\n",
      "  [2863 2863 1490 ... 2516 2516 2516]]\n",
      "\n",
      " [[ 482  482  482 ... 1605 1605  162]\n",
      "  [ 162  482  482 ... 1605  162  162]\n",
      "  [ 162  482  482 ... 1605  162  162]\n",
      "  ...\n",
      "  [ 687  687 2575 ... 2694 2694 2694]\n",
      "  [1203 1203 1203 ... 2694 2694 2694]\n",
      "  [1203 1203 1203 ... 2694 2694 2694]]\n",
      "\n",
      " [[ 162  482  482 ... 1605 1605  162]\n",
      "  [ 162  482  482 ... 1605  162  162]\n",
      "  [ 162  482  482 ... 1605  162  162]\n",
      "  ...\n",
      "  [ 687  506  506 ... 1164 2694 2349]\n",
      "  [ 506  506 1768 ... 2694 2694 2349]\n",
      "  [1203 1203 1768 ... 2233 1902 1902]]\n",
      "\n",
      " ...\n",
      "\n",
      " [[1285  761  761 ... 1698 2789 2789]\n",
      "  [1285  761  761 ... 1698 1698 2789]\n",
      "  [2985  761  761 ... 1698 1948 1948]\n",
      "  ...\n",
      "  [2221 2221 2575 ... 2773 2773 2177]\n",
      "  [2789 1285 1285 ... 2773  284 2789]\n",
      "  [1285 1285  555 ...  284  284 2789]]\n",
      "\n",
      " [[1285 2863  761 ... 1698  284 1285]\n",
      "  [1121 1121  761 ... 1698 1698 1285]\n",
      "  [2985  761  761 ... 1698 1698 2985]\n",
      "  ...\n",
      "  [2575 2575 2575 ... 2516 2516 2516]\n",
      "  [2789 2575 2575 ... 2516  284  284]\n",
      "  [1285 1285 1490 ...  284  284  284]]\n",
      "\n",
      " [[2863 2863 1490 ... 1698 1698 1285]\n",
      "  [1121 1121 1121 ... 1698 1698 1285]\n",
      "  [2985 1121 1121 ... 2381 2985 2985]\n",
      "  ...\n",
      "  [2863 2575 2575 ... 2516 2516 2516]\n",
      "  [2863 2863 2575 ... 2516 2516 2516]\n",
      "  [2863 2863 1490 ...  284  284  284]]]\n"
     ]
    }
   ],
   "source": [
    "geometry = damask.Grid.load_ASCII(f'damask3/source/{material}/RVE_1_40_D.geom')\n",
    "\n",
    "print(geometry)\n",
    "print(geometry.material)\n",
    "for loading in loadings:\n",
    "    for CPLaw in CPLaws:\n",
    "        geometry.save(f\"damask3/templates/{material}/{CPLaw}/{loading}/RVE_1_40_D.vti\")"
   ]
  }
 ],
 "metadata": {
  "kernelspec": {
   "display_name": "Python 3",
   "language": "python",
   "name": "python3"
  },
  "language_info": {
   "codemirror_mode": {
    "name": "ipython",
    "version": 3
   },
   "file_extension": ".py",
   "mimetype": "text/x-python",
   "name": "python",
   "nbconvert_exporter": "python",
   "pygments_lexer": "ipython3",
   "version": "3.11.3"
  },
  "orig_nbformat": 4,
  "vscode": {
   "interpreter": {
    "hash": "3bc1a11519d29b3ed6f08646f3ece60640217e649724c6bcfd38e1173c1a1bce"
   }
  }
 },
 "nbformat": 4,
 "nbformat_minor": 2
}
